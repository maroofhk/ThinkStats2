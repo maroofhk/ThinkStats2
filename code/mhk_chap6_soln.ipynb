{
 "cells": [
  {
   "cell_type": "code",
   "execution_count": 12,
   "metadata": {
    "collapsed": true
   },
   "outputs": [],
   "source": [
    "import hinc\n",
    "import hinc2\n",
    "import thinkstats2\n",
    "\n",
    "import numpy as np\n",
    "import pandas as pd"
   ]
  },
  {
   "cell_type": "code",
   "execution_count": 13,
   "metadata": {
    "collapsed": false
   },
   "outputs": [
    {
     "name": "stderr",
     "output_type": "stream",
     "text": [
      "C:\\maroof\\python\\bk_thinkstats\\code\\hinc.py:51: SettingWithCopyWarning: \n",
      "A value is trying to be set on a copy of a slice from a DataFrame\n",
      "\n",
      "See the caveats in the documentation: http://pandas.pydata.org/pandas-docs/stable/indexing.html#indexing-view-versus-copy\n",
      "  df[0][0] -= 1\n"
     ]
    },
    {
     "data": {
      "text/html": [
       "<div>\n",
       "<table border=\"1\" class=\"dataframe\">\n",
       "  <thead>\n",
       "    <tr style=\"text-align: right;\">\n",
       "      <th></th>\n",
       "      <th>income</th>\n",
       "      <th>freq</th>\n",
       "      <th>cumsum</th>\n",
       "      <th>ps</th>\n",
       "    </tr>\n",
       "  </thead>\n",
       "  <tbody>\n",
       "    <tr>\n",
       "      <th>0</th>\n",
       "      <td>4999</td>\n",
       "      <td>4204</td>\n",
       "      <td>4204</td>\n",
       "      <td>0.034330</td>\n",
       "    </tr>\n",
       "    <tr>\n",
       "      <th>1</th>\n",
       "      <td>9999</td>\n",
       "      <td>4729</td>\n",
       "      <td>8933</td>\n",
       "      <td>0.072947</td>\n",
       "    </tr>\n",
       "    <tr>\n",
       "      <th>2</th>\n",
       "      <td>14999</td>\n",
       "      <td>6982</td>\n",
       "      <td>15915</td>\n",
       "      <td>0.129963</td>\n",
       "    </tr>\n",
       "    <tr>\n",
       "      <th>3</th>\n",
       "      <td>19999</td>\n",
       "      <td>7157</td>\n",
       "      <td>23072</td>\n",
       "      <td>0.188407</td>\n",
       "    </tr>\n",
       "    <tr>\n",
       "      <th>4</th>\n",
       "      <td>24999</td>\n",
       "      <td>7131</td>\n",
       "      <td>30203</td>\n",
       "      <td>0.246640</td>\n",
       "    </tr>\n",
       "  </tbody>\n",
       "</table>\n",
       "</div>"
      ],
      "text/plain": [
       "   income  freq  cumsum        ps\n",
       "0    4999  4204    4204  0.034330\n",
       "1    9999  4729    8933  0.072947\n",
       "2   14999  6982   15915  0.129963\n",
       "3   19999  7157   23072  0.188407\n",
       "4   24999  7131   30203  0.246640"
      ]
     },
     "execution_count": 13,
     "metadata": {},
     "output_type": "execute_result"
    }
   ],
   "source": [
    "df = hinc.ReadData()\n",
    "df.head()"
   ]
  },
  {
   "cell_type": "markdown",
   "metadata": {},
   "source": [
    "here we are putting the income in terms of the uppper limit being 10^6"
   ]
  },
  {
   "cell_type": "code",
   "execution_count": 14,
   "metadata": {
    "collapsed": false
   },
   "outputs": [
    {
     "name": "stderr",
     "output_type": "stream",
     "text": [
      "C:\\maroof\\python\\bk_thinkstats\\code\\hinc2.py:33: SettingWithCopyWarning: \n",
      "A value is trying to be set on a copy of a slice from a DataFrame\n",
      "\n",
      "See the caveats in the documentation: http://pandas.pydata.org/pandas-docs/stable/indexing.html#indexing-view-versus-copy\n",
      "  df.log_lower[0] = 3.0\n",
      "C:\\maroof\\python\\bk_thinkstats\\code\\hinc2.py:36: SettingWithCopyWarning: \n",
      "A value is trying to be set on a copy of a slice from a DataFrame\n",
      "\n",
      "See the caveats in the documentation: http://pandas.pydata.org/pandas-docs/stable/indexing.html#indexing-view-versus-copy\n",
      "  df.log_upper[41] = log_upper\n"
     ]
    },
    {
     "data": {
      "text/plain": [
       "array([ 3.        ,  3.00016628,  3.00033256, ...,  5.99958621,\n",
       "        5.99979311,  6.        ])"
      ]
     },
     "execution_count": 14,
     "metadata": {},
     "output_type": "execute_result"
    }
   ],
   "source": [
    "log_sample = hinc2.InterpolateSample(df, log_upper=6.0)\n",
    "log_sample"
   ]
  },
  {
   "cell_type": "code",
   "execution_count": 20,
   "metadata": {
    "collapsed": false
   },
   "outputs": [
    {
     "name": "stdout",
     "output_type": "stream",
     "text": [
      "mean:  74278.7075312\n",
      "std:  93946.9299635\n",
      "median:  51226.9330656\n",
      "skewness:  4.94992024443\n",
      "pearson skewness:  0.736125801914\n"
     ]
    }
   ],
   "source": [
    "print('mean: ', np.mean(10**log_sample))\n",
    "print('std: ', np.std(10**log_sample))\n",
    "print('median: ', np.median(10**log_sample))\n",
    "print('skewness: ', thinkstats2.Skewness(10**log_sample))\n",
    "print('pearson skewness: ', thinkstats2.PearsonMedianSkewness(10**log_sample))"
   ]
  },
  {
   "cell_type": "markdown",
   "metadata": {},
   "source": [
    "Here is the percentage of people whose income be at or below the mean income."
   ]
  },
  {
   "cell_type": "code",
   "execution_count": 16,
   "metadata": {
    "collapsed": false
   },
   "outputs": [
    {
     "data": {
      "text/plain": [
       "0.66000587956687196"
      ]
     },
     "execution_count": 16,
     "metadata": {},
     "output_type": "execute_result"
    }
   ],
   "source": [
    "incomeConverted = [10**i for i in log_sample]\n",
    "cdf = thinkstats2.Cdf(incomeConverted)\n",
    "cdf[np.mean(incomeConverted)]"
   ]
  },
  {
   "cell_type": "markdown",
   "metadata": {},
   "source": [
    "how about it we increase the upper bound with log_upper = 7.0"
   ]
  },
  {
   "cell_type": "code",
   "execution_count": 17,
   "metadata": {
    "collapsed": false
   },
   "outputs": [
    {
     "name": "stderr",
     "output_type": "stream",
     "text": [
      "C:\\maroof\\python\\bk_thinkstats\\code\\hinc2.py:33: SettingWithCopyWarning: \n",
      "A value is trying to be set on a copy of a slice from a DataFrame\n",
      "\n",
      "See the caveats in the documentation: http://pandas.pydata.org/pandas-docs/stable/indexing.html#indexing-view-versus-copy\n",
      "  df.log_lower[0] = 3.0\n",
      "C:\\maroof\\python\\bk_thinkstats\\code\\hinc2.py:36: SettingWithCopyWarning: \n",
      "A value is trying to be set on a copy of a slice from a DataFrame\n",
      "\n",
      "See the caveats in the documentation: http://pandas.pydata.org/pandas-docs/stable/indexing.html#indexing-view-versus-copy\n",
      "  df.log_upper[41] = log_upper\n"
     ]
    },
    {
     "data": {
      "text/plain": [
       "array([ 3.        ,  3.00016628,  3.00033256, ...,  6.99889893,\n",
       "        6.99944946,  7.        ])"
      ]
     },
     "execution_count": 17,
     "metadata": {},
     "output_type": "execute_result"
    }
   ],
   "source": [
    "log_sample2 = hinc2.InterpolateSample(df, log_upper=7.0)\n",
    "log_sample2"
   ]
  },
  {
   "cell_type": "code",
   "execution_count": 18,
   "metadata": {
    "collapsed": false
   },
   "outputs": [
    {
     "name": "stdout",
     "output_type": "stream",
     "text": [
      "mean:  124267.397222\n",
      "std:  559608.501374\n",
      "median:  51226.9330656\n",
      "skewness:  11.6036902675\n",
      "pearson skewness:  0.391564509277\n"
     ]
    }
   ],
   "source": [
    "print('mean: ', np.mean(10**log_sample2))\n",
    "print('std: ', np.std(10**log_sample2))\n",
    "print('median: ', np.median(10**log_sample2))\n",
    "print('skewness: ', thinkstats2.Skewness(10**log_sample2))\n",
    "print('pearson skewness: ', thinkstats2.PearsonMedianSkewness(10**log_sample2))"
   ]
  },
  {
   "cell_type": "code",
   "execution_count": 19,
   "metadata": {
    "collapsed": false
   },
   "outputs": [
    {
     "data": {
      "text/plain": [
       "0.8565630665207663"
      ]
     },
     "execution_count": 19,
     "metadata": {},
     "output_type": "execute_result"
    }
   ],
   "source": [
    "incomeConverted2 = [10**i for i in log_sample2]\n",
    "cdf = thinkstats2.Cdf(incomeConverted)\n",
    "cdf[np.mean(incomeConverted2)]"
   ]
  },
  {
   "cell_type": "markdown",
   "metadata": {},
   "source": [
    "We are purposefully skewing the data by increasing log_upper. After the change upper salary is 10^7. Since that data now is skewed to the right [mean > median] we should expect the skewness to increase in magnitude. Comparing the results above with the first scenario skewness is increasing but pearson skewness seems to have decreased. Since standard deviation is at the denominator of the formula for pearson skewness it definately decreased the value for 2nd case. A better gauge to use, in additional to skewness, will be the percentage of sample with income below the median which is higher for the 2nd case."
   ]
  },
  {
   "cell_type": "code",
   "execution_count": null,
   "metadata": {
    "collapsed": true
   },
   "outputs": [],
   "source": []
  }
 ],
 "metadata": {
  "kernelspec": {
   "display_name": "Python 3",
   "language": "python",
   "name": "python3"
  },
  "language_info": {
   "codemirror_mode": {
    "name": "ipython",
    "version": 3
   },
   "file_extension": ".py",
   "mimetype": "text/x-python",
   "name": "python",
   "nbconvert_exporter": "python",
   "pygments_lexer": "ipython3",
   "version": "3.4.3"
  }
 },
 "nbformat": 4,
 "nbformat_minor": 0
}
