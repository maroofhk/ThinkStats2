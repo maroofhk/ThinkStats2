{
 "cells": [
  {
   "cell_type": "code",
   "execution_count": 2,
   "metadata": {
    "collapsed": true
   },
   "outputs": [],
   "source": [
    "import scipy.stats"
   ]
  },
  {
   "cell_type": "code",
   "execution_count": 3,
   "metadata": {
    "collapsed": false
   },
   "outputs": [
    {
     "name": "stdout",
     "output_type": "stream",
     "text": [
      "low: 177.800000, high: 185.420000\n",
      "cdf low: 0.489639, cdf high: 0.832386, percentage between low and high: 34.274684\n"
     ]
    }
   ],
   "source": [
    "mu = 178\n",
    "sigma = 7.7\n",
    "\n",
    "def EvalNormalCdf(x, mu=0, scale=sigma):\n",
    "    return scipy.stats.norm.cdf(x, loc=mu, scale=sigma)\n",
    "\n",
    "def convertToCm(feet, inch):\n",
    "    return 30.48 * (feet + (inch/12.0))\n",
    "                  \n",
    "weight_low = convertToCm(5,10)\n",
    "weight_high = convertToCm(6,1)\n",
    "\n",
    "normCdfLow = EvalNormalCdf(weight_low, mu, sigma)\n",
    "normCdfHigh = EvalNormalCdf(weight_high, mu, sigma)\n",
    "\n",
    "print('low: %f, high: %f' % (weight_low, weight_high))\n",
    "print('cdf low: %f, cdf high: %f, percentage between low and high: %f' % (normCdfLow, normCdfHigh, 100*(normCdfHigh-normCdfLow)))"
   ]
  },
  {
   "cell_type": "markdown",
   "metadata": {},
   "source": [
    "1. First we convert the blueman groups height requirements as 'weight_low' and 'weight_high'\n",
    "2. Function EvalNormalCdf given a height value (along with mu and sigma for normal distribution) gives us the percentage of population  with same height or lower.\n",
    "3. If we subtract weight_high - weight_low we get the perentage of people between the above mentioned heights."
   ]
  },
  {
   "cell_type": "code",
   "execution_count": null,
   "metadata": {
    "collapsed": true
   },
   "outputs": [],
   "source": []
  }
 ],
 "metadata": {
  "kernelspec": {
   "display_name": "Python 3",
   "language": "python",
   "name": "python3"
  },
  "language_info": {
   "codemirror_mode": {
    "name": "ipython",
    "version": 3
   },
   "file_extension": ".py",
   "mimetype": "text/x-python",
   "name": "python",
   "nbconvert_exporter": "python",
   "pygments_lexer": "ipython3",
   "version": "3.4.3"
  }
 },
 "nbformat": 4,
 "nbformat_minor": 0
}
